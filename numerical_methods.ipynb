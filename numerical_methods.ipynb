{
 "cells": [
  {
   "attachments": {},
   "cell_type": "markdown",
   "metadata": {},
   "source": [
    "## Introduction ##\n",
    "\n",
    "A used car sales service is developing an app to attract new customers where users can quickly find out the market value of their car. In this project, we will need to build the model that predicts the car values. The company is interested in the quality and speed of the prediction, and the time required for model training. We have access to historical data such as technical specifications, trim versions, and prices, which are further detailed in the file **car_data.csv**.\n",
    "\n",
    "Using the dataset, we will train, tune, and evaluate different models using the RMSE metric; our goal is to develop a time-efficient, high-quality model."
   ]
  },
  {
   "attachments": {},
   "cell_type": "markdown",
   "metadata": {},
   "source": [
    "## Data Preparation ##\n",
    "\n",
    "**Initialization**"
   ]
  },
  {
   "cell_type": "code",
   "execution_count": 1,
   "metadata": {},
   "outputs": [],
   "source": [
    "import pandas as pd\n",
    "import numpy as np\n",
    "import time\n",
    "import matplotlib.pyplot as plt\n",
    "\n",
    "from sklearn.ensemble import RandomForestRegressor\n",
    "from sklearn.linear_model import LinearRegression\n",
    "from lightgbm import LGBMRegressor\n",
    "from catboost import CatBoostRegressor\n",
    "\n",
    "from sklearn.metrics import mean_squared_error\n",
    "from sklearn.model_selection import train_test_split, GridSearchCV"
   ]
  },
  {
   "attachments": {},
   "cell_type": "markdown",
   "metadata": {},
   "source": [
    "**Load and Inspect Data**"
   ]
  },
  {
   "cell_type": "code",
   "execution_count": 2,
   "metadata": {},
   "outputs": [
    {
     "data": {
      "text/html": [
       "<div>\n",
       "<style scoped>\n",
       "    .dataframe tbody tr th:only-of-type {\n",
       "        vertical-align: middle;\n",
       "    }\n",
       "\n",
       "    .dataframe tbody tr th {\n",
       "        vertical-align: top;\n",
       "    }\n",
       "\n",
       "    .dataframe thead th {\n",
       "        text-align: right;\n",
       "    }\n",
       "</style>\n",
       "<table border=\"1\" class=\"dataframe\">\n",
       "  <thead>\n",
       "    <tr style=\"text-align: right;\">\n",
       "      <th></th>\n",
       "      <th>DateCrawled</th>\n",
       "      <th>Price</th>\n",
       "      <th>VehicleType</th>\n",
       "      <th>RegistrationYear</th>\n",
       "      <th>Gearbox</th>\n",
       "      <th>Power</th>\n",
       "      <th>Model</th>\n",
       "      <th>Mileage</th>\n",
       "      <th>RegistrationMonth</th>\n",
       "      <th>FuelType</th>\n",
       "      <th>Brand</th>\n",
       "      <th>NotRepaired</th>\n",
       "      <th>DateCreated</th>\n",
       "      <th>NumberOfPictures</th>\n",
       "      <th>PostalCode</th>\n",
       "      <th>LastSeen</th>\n",
       "    </tr>\n",
       "  </thead>\n",
       "  <tbody>\n",
       "    <tr>\n",
       "      <th>208455</th>\n",
       "      <td>05/04/2016 09:52</td>\n",
       "      <td>1</td>\n",
       "      <td>small</td>\n",
       "      <td>1999</td>\n",
       "      <td>manual</td>\n",
       "      <td>0</td>\n",
       "      <td>polo</td>\n",
       "      <td>150000</td>\n",
       "      <td>8</td>\n",
       "      <td>petrol</td>\n",
       "      <td>volkswagen</td>\n",
       "      <td>yes</td>\n",
       "      <td>05/04/2016 00:00</td>\n",
       "      <td>0</td>\n",
       "      <td>13589</td>\n",
       "      <td>05/04/2016 10:40</td>\n",
       "    </tr>\n",
       "    <tr>\n",
       "      <th>148882</th>\n",
       "      <td>25/03/2016 11:43</td>\n",
       "      <td>749</td>\n",
       "      <td>wagon</td>\n",
       "      <td>1992</td>\n",
       "      <td>manual</td>\n",
       "      <td>115</td>\n",
       "      <td>passat</td>\n",
       "      <td>150000</td>\n",
       "      <td>4</td>\n",
       "      <td>petrol</td>\n",
       "      <td>volkswagen</td>\n",
       "      <td>no</td>\n",
       "      <td>25/03/2016 00:00</td>\n",
       "      <td>0</td>\n",
       "      <td>51597</td>\n",
       "      <td>31/03/2016 18:16</td>\n",
       "    </tr>\n",
       "    <tr>\n",
       "      <th>107709</th>\n",
       "      <td>24/03/2016 10:48</td>\n",
       "      <td>6500</td>\n",
       "      <td>NaN</td>\n",
       "      <td>2017</td>\n",
       "      <td>manual</td>\n",
       "      <td>105</td>\n",
       "      <td>a3</td>\n",
       "      <td>150000</td>\n",
       "      <td>0</td>\n",
       "      <td>gasoline</td>\n",
       "      <td>audi</td>\n",
       "      <td>no</td>\n",
       "      <td>24/03/2016 00:00</td>\n",
       "      <td>0</td>\n",
       "      <td>53937</td>\n",
       "      <td>24/03/2016 10:48</td>\n",
       "    </tr>\n",
       "    <tr>\n",
       "      <th>93698</th>\n",
       "      <td>25/03/2016 09:55</td>\n",
       "      <td>1600</td>\n",
       "      <td>small</td>\n",
       "      <td>2002</td>\n",
       "      <td>manual</td>\n",
       "      <td>50</td>\n",
       "      <td>lupo</td>\n",
       "      <td>150000</td>\n",
       "      <td>3</td>\n",
       "      <td>petrol</td>\n",
       "      <td>volkswagen</td>\n",
       "      <td>no</td>\n",
       "      <td>25/03/2016 00:00</td>\n",
       "      <td>0</td>\n",
       "      <td>12355</td>\n",
       "      <td>31/03/2016 16:45</td>\n",
       "    </tr>\n",
       "    <tr>\n",
       "      <th>344152</th>\n",
       "      <td>12/03/2016 19:06</td>\n",
       "      <td>5900</td>\n",
       "      <td>bus</td>\n",
       "      <td>2006</td>\n",
       "      <td>manual</td>\n",
       "      <td>105</td>\n",
       "      <td>touran</td>\n",
       "      <td>150000</td>\n",
       "      <td>1</td>\n",
       "      <td>gasoline</td>\n",
       "      <td>volkswagen</td>\n",
       "      <td>no</td>\n",
       "      <td>12/03/2016 00:00</td>\n",
       "      <td>0</td>\n",
       "      <td>35649</td>\n",
       "      <td>17/03/2016 21:17</td>\n",
       "    </tr>\n",
       "    <tr>\n",
       "      <th>194679</th>\n",
       "      <td>17/03/2016 07:58</td>\n",
       "      <td>3290</td>\n",
       "      <td>sedan</td>\n",
       "      <td>2004</td>\n",
       "      <td>manual</td>\n",
       "      <td>116</td>\n",
       "      <td>a_klasse</td>\n",
       "      <td>125000</td>\n",
       "      <td>9</td>\n",
       "      <td>petrol</td>\n",
       "      <td>mercedes_benz</td>\n",
       "      <td>yes</td>\n",
       "      <td>17/03/2016 00:00</td>\n",
       "      <td>0</td>\n",
       "      <td>37318</td>\n",
       "      <td>21/03/2016 11:45</td>\n",
       "    </tr>\n",
       "    <tr>\n",
       "      <th>308796</th>\n",
       "      <td>18/03/2016 01:36</td>\n",
       "      <td>650</td>\n",
       "      <td>sedan</td>\n",
       "      <td>1996</td>\n",
       "      <td>manual</td>\n",
       "      <td>0</td>\n",
       "      <td>a4</td>\n",
       "      <td>150000</td>\n",
       "      <td>0</td>\n",
       "      <td>petrol</td>\n",
       "      <td>audi</td>\n",
       "      <td>NaN</td>\n",
       "      <td>18/03/2016 00:00</td>\n",
       "      <td>0</td>\n",
       "      <td>41199</td>\n",
       "      <td>21/03/2016 06:46</td>\n",
       "    </tr>\n",
       "    <tr>\n",
       "      <th>289851</th>\n",
       "      <td>26/03/2016 20:36</td>\n",
       "      <td>2950</td>\n",
       "      <td>sedan</td>\n",
       "      <td>2003</td>\n",
       "      <td>NaN</td>\n",
       "      <td>0</td>\n",
       "      <td>golf</td>\n",
       "      <td>150000</td>\n",
       "      <td>11</td>\n",
       "      <td>gasoline</td>\n",
       "      <td>volkswagen</td>\n",
       "      <td>no</td>\n",
       "      <td>26/03/2016 00:00</td>\n",
       "      <td>0</td>\n",
       "      <td>51491</td>\n",
       "      <td>26/03/2016 21:47</td>\n",
       "    </tr>\n",
       "    <tr>\n",
       "      <th>351935</th>\n",
       "      <td>14/03/2016 09:32</td>\n",
       "      <td>9900</td>\n",
       "      <td>wagon</td>\n",
       "      <td>2007</td>\n",
       "      <td>manual</td>\n",
       "      <td>280</td>\n",
       "      <td>vectra</td>\n",
       "      <td>150000</td>\n",
       "      <td>11</td>\n",
       "      <td>petrol</td>\n",
       "      <td>opel</td>\n",
       "      <td>no</td>\n",
       "      <td>14/03/2016 00:00</td>\n",
       "      <td>0</td>\n",
       "      <td>35753</td>\n",
       "      <td>06/04/2016 18:48</td>\n",
       "    </tr>\n",
       "    <tr>\n",
       "      <th>46653</th>\n",
       "      <td>21/03/2016 11:49</td>\n",
       "      <td>3699</td>\n",
       "      <td>small</td>\n",
       "      <td>2011</td>\n",
       "      <td>NaN</td>\n",
       "      <td>71</td>\n",
       "      <td>fortwo</td>\n",
       "      <td>125000</td>\n",
       "      <td>1</td>\n",
       "      <td>petrol</td>\n",
       "      <td>smart</td>\n",
       "      <td>no</td>\n",
       "      <td>21/03/2016 00:00</td>\n",
       "      <td>0</td>\n",
       "      <td>70193</td>\n",
       "      <td>21/03/2016 11:49</td>\n",
       "    </tr>\n",
       "  </tbody>\n",
       "</table>\n",
       "</div>"
      ],
      "text/plain": [
       "             DateCrawled  Price VehicleType  RegistrationYear Gearbox  Power  \\\n",
       "208455  05/04/2016 09:52      1       small              1999  manual      0   \n",
       "148882  25/03/2016 11:43    749       wagon              1992  manual    115   \n",
       "107709  24/03/2016 10:48   6500         NaN              2017  manual    105   \n",
       "93698   25/03/2016 09:55   1600       small              2002  manual     50   \n",
       "344152  12/03/2016 19:06   5900         bus              2006  manual    105   \n",
       "194679  17/03/2016 07:58   3290       sedan              2004  manual    116   \n",
       "308796  18/03/2016 01:36    650       sedan              1996  manual      0   \n",
       "289851  26/03/2016 20:36   2950       sedan              2003     NaN      0   \n",
       "351935  14/03/2016 09:32   9900       wagon              2007  manual    280   \n",
       "46653   21/03/2016 11:49   3699       small              2011     NaN     71   \n",
       "\n",
       "           Model  Mileage  RegistrationMonth  FuelType          Brand  \\\n",
       "208455      polo   150000                  8    petrol     volkswagen   \n",
       "148882    passat   150000                  4    petrol     volkswagen   \n",
       "107709        a3   150000                  0  gasoline           audi   \n",
       "93698       lupo   150000                  3    petrol     volkswagen   \n",
       "344152    touran   150000                  1  gasoline     volkswagen   \n",
       "194679  a_klasse   125000                  9    petrol  mercedes_benz   \n",
       "308796        a4   150000                  0    petrol           audi   \n",
       "289851      golf   150000                 11  gasoline     volkswagen   \n",
       "351935    vectra   150000                 11    petrol           opel   \n",
       "46653     fortwo   125000                  1    petrol          smart   \n",
       "\n",
       "       NotRepaired       DateCreated  NumberOfPictures  PostalCode  \\\n",
       "208455         yes  05/04/2016 00:00                 0       13589   \n",
       "148882          no  25/03/2016 00:00                 0       51597   \n",
       "107709          no  24/03/2016 00:00                 0       53937   \n",
       "93698           no  25/03/2016 00:00                 0       12355   \n",
       "344152          no  12/03/2016 00:00                 0       35649   \n",
       "194679         yes  17/03/2016 00:00                 0       37318   \n",
       "308796         NaN  18/03/2016 00:00                 0       41199   \n",
       "289851          no  26/03/2016 00:00                 0       51491   \n",
       "351935          no  14/03/2016 00:00                 0       35753   \n",
       "46653           no  21/03/2016 00:00                 0       70193   \n",
       "\n",
       "                LastSeen  \n",
       "208455  05/04/2016 10:40  \n",
       "148882  31/03/2016 18:16  \n",
       "107709  24/03/2016 10:48  \n",
       "93698   31/03/2016 16:45  \n",
       "344152  17/03/2016 21:17  \n",
       "194679  21/03/2016 11:45  \n",
       "308796  21/03/2016 06:46  \n",
       "289851  26/03/2016 21:47  \n",
       "351935  06/04/2016 18:48  \n",
       "46653   21/03/2016 11:49  "
      ]
     },
     "metadata": {},
     "output_type": "display_data"
    },
    {
     "name": "stdout",
     "output_type": "stream",
     "text": [
      "<class 'pandas.core.frame.DataFrame'>\n",
      "RangeIndex: 354369 entries, 0 to 354368\n",
      "Data columns (total 16 columns):\n",
      " #   Column             Non-Null Count   Dtype \n",
      "---  ------             --------------   ----- \n",
      " 0   DateCrawled        354369 non-null  object\n",
      " 1   Price              354369 non-null  int64 \n",
      " 2   VehicleType        316879 non-null  object\n",
      " 3   RegistrationYear   354369 non-null  int64 \n",
      " 4   Gearbox            334536 non-null  object\n",
      " 5   Power              354369 non-null  int64 \n",
      " 6   Model              334664 non-null  object\n",
      " 7   Mileage            354369 non-null  int64 \n",
      " 8   RegistrationMonth  354369 non-null  int64 \n",
      " 9   FuelType           321474 non-null  object\n",
      " 10  Brand              354369 non-null  object\n",
      " 11  NotRepaired        283215 non-null  object\n",
      " 12  DateCreated        354369 non-null  object\n",
      " 13  NumberOfPictures   354369 non-null  int64 \n",
      " 14  PostalCode         354369 non-null  int64 \n",
      " 15  LastSeen           354369 non-null  object\n",
      "dtypes: int64(7), object(9)\n",
      "memory usage: 43.3+ MB\n"
     ]
    }
   ],
   "source": [
    "# When cloning this project, ensure directory/file paths are correct with respect to user's operating system\n",
    "df_cars = pd.read_csv('datasets/car_data.csv')\n",
    "\n",
    "display(df_cars.sample(10))\n",
    "df_cars.info()"
   ]
  },
  {
   "attachments": {},
   "cell_type": "markdown",
   "metadata": {},
   "source": [
    "There are 354,369 observations in the dataset. For columns with timestamps, we'll convert the datatype to datetime. The object datatypes will be converted to category to facilitate the feature encoding when we train the LightGBM regressor model."
   ]
  },
  {
   "cell_type": "code",
   "execution_count": 3,
   "metadata": {},
   "outputs": [
    {
     "name": "stdout",
     "output_type": "stream",
     "text": [
      "DateCrawled          datetime64[ns]\n",
      "Price                         int64\n",
      "VehicleType                  object\n",
      "RegistrationYear              int64\n",
      "Gearbox                      object\n",
      "Power                         int64\n",
      "Model                        object\n",
      "Mileage                       int64\n",
      "RegistrationMonth             int64\n",
      "FuelType                     object\n",
      "Brand                        object\n",
      "NotRepaired                  object\n",
      "DateCreated          datetime64[ns]\n",
      "NumberOfPictures              int64\n",
      "PostalCode                    int64\n",
      "LastSeen             datetime64[ns]\n",
      "dtype: object\n"
     ]
    }
   ],
   "source": [
    "df_cars['DateCrawled'] = pd.to_datetime(df_cars['DateCrawled'], format='%d/%m/%Y %H:%M')\n",
    "df_cars['DateCreated'] = pd.to_datetime(df_cars['DateCreated'], format='%d/%m/%Y %H:%M')\n",
    "df_cars['LastSeen'] = pd.to_datetime(df_cars['LastSeen'], format='%d/%m/%Y %H:%M')\n",
    "\n",
    "print(df_cars.dtypes)"
   ]
  },
  {
   "attachments": {},
   "cell_type": "markdown",
   "metadata": {},
   "source": [
    "**Missing Values**"
   ]
  },
  {
   "cell_type": "code",
   "execution_count": 4,
   "metadata": {},
   "outputs": [
    {
     "name": "stdout",
     "output_type": "stream",
     "text": [
      "DateCrawled              0\n",
      "Price                    0\n",
      "VehicleType          37490\n",
      "RegistrationYear         0\n",
      "Gearbox              19833\n",
      "Power                    0\n",
      "Model                19705\n",
      "Mileage                  0\n",
      "RegistrationMonth        0\n",
      "FuelType             32895\n",
      "Brand                    0\n",
      "NotRepaired          71154\n",
      "DateCreated              0\n",
      "NumberOfPictures         0\n",
      "PostalCode               0\n",
      "LastSeen                 0\n",
      "dtype: int64\n"
     ]
    }
   ],
   "source": [
    "print(df_cars.isna().sum())"
   ]
  },
  {
   "attachments": {},
   "cell_type": "markdown",
   "metadata": {},
   "source": [
    "There are missing values, primiarly in categorical columns. While these represent more than 20% of the dataset, it is difficult to accurately recreate the values. Specifically, it would be difficult to recreate the NotRepaired feature, which arguably is an important feature affecting the value of a vehicle. As such, we'll drop the missing values."
   ]
  },
  {
   "cell_type": "code",
   "execution_count": 5,
   "metadata": {},
   "outputs": [
    {
     "name": "stdout",
     "output_type": "stream",
     "text": [
      "index                0\n",
      "DateCrawled          0\n",
      "Price                0\n",
      "VehicleType          0\n",
      "RegistrationYear     0\n",
      "Gearbox              0\n",
      "Power                0\n",
      "Model                0\n",
      "Mileage              0\n",
      "RegistrationMonth    0\n",
      "FuelType             0\n",
      "Brand                0\n",
      "NotRepaired          0\n",
      "DateCreated          0\n",
      "NumberOfPictures     0\n",
      "PostalCode           0\n",
      "LastSeen             0\n",
      "dtype: int64\n"
     ]
    }
   ],
   "source": [
    "df_cars = df_cars.dropna(subset=['NotRepaired', 'Model', 'VehicleType', 'Gearbox', 'FuelType']).reset_index()\n",
    "print(df_cars.isna().sum())"
   ]
  },
  {
   "attachments": {},
   "cell_type": "markdown",
   "metadata": {},
   "source": [
    "**Duplicate Observations**\n",
    "\n",
    "We'll check for duplicate entries and remove any duplicate rows found in the dataset."
   ]
  },
  {
   "cell_type": "code",
   "execution_count": 6,
   "metadata": {},
   "outputs": [
    {
     "name": "stdout",
     "output_type": "stream",
     "text": [
      "Number of duplicates:  0\n"
     ]
    }
   ],
   "source": [
    "print('Number of duplicates: ', df_cars.duplicated().sum())"
   ]
  },
  {
   "attachments": {},
   "cell_type": "markdown",
   "metadata": {},
   "source": [
    "**Negative Prices**\n",
    "\n",
    "We'll check to make sure the target values make sense (i.e. no negative car values)."
   ]
  },
  {
   "cell_type": "code",
   "execution_count": 7,
   "metadata": {},
   "outputs": [
    {
     "name": "stdout",
     "output_type": "stream",
     "text": [
      "Number of negative prices:  0\n"
     ]
    }
   ],
   "source": [
    "print('Number of negative prices: ', (df_cars['Price'] < 0).sum())"
   ]
  },
  {
   "attachments": {},
   "cell_type": "markdown",
   "metadata": {},
   "source": [
    "**Categorical Feature Datatype**\n",
    "\n",
    "As previously mentioned, we'll convert object datatypes to category to facilitate the LightGBM encoding."
   ]
  },
  {
   "cell_type": "code",
   "execution_count": 8,
   "metadata": {},
   "outputs": [
    {
     "name": "stdout",
     "output_type": "stream",
     "text": [
      "<class 'pandas.core.frame.DataFrame'>\n",
      "RangeIndex: 245814 entries, 0 to 245813\n",
      "Data columns (total 17 columns):\n",
      " #   Column             Non-Null Count   Dtype         \n",
      "---  ------             --------------   -----         \n",
      " 0   index              245814 non-null  int64         \n",
      " 1   DateCrawled        245814 non-null  datetime64[ns]\n",
      " 2   Price              245814 non-null  int64         \n",
      " 3   VehicleType        245814 non-null  category      \n",
      " 4   RegistrationYear   245814 non-null  int64         \n",
      " 5   Gearbox            245814 non-null  category      \n",
      " 6   Power              245814 non-null  int64         \n",
      " 7   Model              245814 non-null  category      \n",
      " 8   Mileage            245814 non-null  int64         \n",
      " 9   RegistrationMonth  245814 non-null  int64         \n",
      " 10  FuelType           245814 non-null  category      \n",
      " 11  Brand              245814 non-null  category      \n",
      " 12  NotRepaired        245814 non-null  category      \n",
      " 13  DateCreated        245814 non-null  datetime64[ns]\n",
      " 14  NumberOfPictures   245814 non-null  int64         \n",
      " 15  PostalCode         245814 non-null  int64         \n",
      " 16  LastSeen           245814 non-null  datetime64[ns]\n",
      "dtypes: category(6), datetime64[ns](3), int64(8)\n",
      "memory usage: 22.3 MB\n"
     ]
    }
   ],
   "source": [
    "obj_feat = list(df_cars.loc[:, df_cars.dtypes == 'object'].columns.values)\n",
    "for feat in obj_feat:\n",
    "    df_cars[feat] = pd.Series(df_cars[feat], dtype=\"category\")\n",
    "\n",
    "df_cars.info()"
   ]
  },
  {
   "cell_type": "markdown",
   "metadata": {},
   "source": [
    "## Exploratory Data Analysis\n",
    "\n",
    "While we won't be using all of the numerical features to train our models, we'll conduct EDA on the numerical features and target variable we plan on using; namely power, mileage, registration year and price."
   ]
  },
  {
   "cell_type": "code",
   "execution_count": 9,
   "metadata": {},
   "outputs": [
    {
     "data": {
      "text/html": [
       "<div>\n",
       "<style scoped>\n",
       "    .dataframe tbody tr th:only-of-type {\n",
       "        vertical-align: middle;\n",
       "    }\n",
       "\n",
       "    .dataframe tbody tr th {\n",
       "        vertical-align: top;\n",
       "    }\n",
       "\n",
       "    .dataframe thead th {\n",
       "        text-align: right;\n",
       "    }\n",
       "</style>\n",
       "<table border=\"1\" class=\"dataframe\">\n",
       "  <thead>\n",
       "    <tr style=\"text-align: right;\">\n",
       "      <th></th>\n",
       "      <th>Power</th>\n",
       "      <th>Mileage</th>\n",
       "      <th>RegistrationYear</th>\n",
       "      <th>Price</th>\n",
       "    </tr>\n",
       "  </thead>\n",
       "  <tbody>\n",
       "    <tr>\n",
       "      <th>count</th>\n",
       "      <td>245814.000000</td>\n",
       "      <td>245814.000000</td>\n",
       "      <td>245814.000000</td>\n",
       "      <td>245814.000000</td>\n",
       "    </tr>\n",
       "    <tr>\n",
       "      <th>mean</th>\n",
       "      <td>119.970884</td>\n",
       "      <td>127296.716216</td>\n",
       "      <td>2002.918699</td>\n",
       "      <td>5125.346717</td>\n",
       "    </tr>\n",
       "    <tr>\n",
       "      <th>std</th>\n",
       "      <td>139.387116</td>\n",
       "      <td>37078.820368</td>\n",
       "      <td>6.163765</td>\n",
       "      <td>4717.948673</td>\n",
       "    </tr>\n",
       "    <tr>\n",
       "      <th>min</th>\n",
       "      <td>0.000000</td>\n",
       "      <td>5000.000000</td>\n",
       "      <td>1910.000000</td>\n",
       "      <td>0.000000</td>\n",
       "    </tr>\n",
       "    <tr>\n",
       "      <th>25%</th>\n",
       "      <td>75.000000</td>\n",
       "      <td>125000.000000</td>\n",
       "      <td>1999.000000</td>\n",
       "      <td>1499.000000</td>\n",
       "    </tr>\n",
       "    <tr>\n",
       "      <th>50%</th>\n",
       "      <td>110.000000</td>\n",
       "      <td>150000.000000</td>\n",
       "      <td>2003.000000</td>\n",
       "      <td>3500.000000</td>\n",
       "    </tr>\n",
       "    <tr>\n",
       "      <th>75%</th>\n",
       "      <td>150.000000</td>\n",
       "      <td>150000.000000</td>\n",
       "      <td>2007.000000</td>\n",
       "      <td>7500.000000</td>\n",
       "    </tr>\n",
       "    <tr>\n",
       "      <th>max</th>\n",
       "      <td>20000.000000</td>\n",
       "      <td>150000.000000</td>\n",
       "      <td>2018.000000</td>\n",
       "      <td>20000.000000</td>\n",
       "    </tr>\n",
       "  </tbody>\n",
       "</table>\n",
       "</div>"
      ],
      "text/plain": [
       "               Power        Mileage  RegistrationYear          Price\n",
       "count  245814.000000  245814.000000     245814.000000  245814.000000\n",
       "mean      119.970884  127296.716216       2002.918699    5125.346717\n",
       "std       139.387116   37078.820368          6.163765    4717.948673\n",
       "min         0.000000    5000.000000       1910.000000       0.000000\n",
       "25%        75.000000  125000.000000       1999.000000    1499.000000\n",
       "50%       110.000000  150000.000000       2003.000000    3500.000000\n",
       "75%       150.000000  150000.000000       2007.000000    7500.000000\n",
       "max     20000.000000  150000.000000       2018.000000   20000.000000"
      ]
     },
     "metadata": {},
     "output_type": "display_data"
    }
   ],
   "source": [
    "display(df_cars[['Power', 'Mileage', 'RegistrationYear', 'Price']].describe())"
   ]
  },
  {
   "cell_type": "code",
   "execution_count": 10,
   "metadata": {},
   "outputs": [
    {
     "data": {
      "image/png": "[encoded data removed]",
      "text/plain": [
       "<Figure size 1500x800 with 4 Axes>"
      ]
     },
     "metadata": {},
     "output_type": "display_data"
    }
   ],
   "source": [
    "fig, axs = plt.subplots(2, 2, figsize=(15, 8)) \n",
    "\n",
    "axs[0, 0].hist(df_cars['Power'])\n",
    "axs[0, 0].set_title('Power')\n",
    "\n",
    "axs[0, 1].hist(df_cars['Mileage'])\n",
    "axs[0, 1].set_title('Mileage')\n",
    "\n",
    "axs[1, 0].hist(df_cars['RegistrationYear'])\n",
    "axs[1, 0].set_title('Registration Year')\n",
    "\n",
    "axs[1, 1].hist(df_cars['Price'])\n",
    "axs[1, 1].set_title('Price')\n",
    "\n",
    "fig.suptitle('Distribution of Numerical Features')\n",
    "plt.show()"
   ]
  },
  {
   "cell_type": "markdown",
   "metadata": {},
   "source": [
    "It appears there are errors in the Power column; some of the values are 0 and some of the values are extraordinarily high. This could be a sample of mixed units other than horsepower (e.g. Joules/second), but most likely is erroneous. In any case, we shouldn't use Power as a training feature."
   ]
  },
  {
   "attachments": {},
   "cell_type": "markdown",
   "metadata": {},
   "source": [
    "## Model Training and Tuning ##\n",
    "\n",
    "We'll train and compare a few regression models, using RMSE, time to train, and prediction time as our evaluation metrics. For a sanity check, we'll train a linear regression model with default parameters. The models we'll train and tune for comparison will be as follows:\n",
    "\n",
    "- Random Forest Regressor\n",
    "- LightGBM Regressor\n",
    "- CatBoost Regressor\n",
    "\n",
    "For hyperparameter tuning, we'll incorporate the use of GridSearchCV with a narrow scope of parameters to mitigate long runtimes. GridSearchCV incorporates cross-validation and includes attributes related to our performance metrics, specifically refit_time_ which measures time to train for the best estimator across the entire provided dataset (i.e. training set).\n",
    "\n",
    "To facilitate the performance comparison for our baseline models and predictions, we'll define the following functions:\n",
    "\n",
    "**time_and_train:**  \n",
    "*Parameters:*\n",
    "- model: estimator to be trained\n",
    "- feat_train: array-like of features for model training\n",
    "- tgt_train: array-like of targets for model training\n",
    "\n",
    "*Returns:* tuple of fitted model and time to train in seconds, rounded to the nearest hundredth. Primarily used for our baseline performance calculations."
   ]
  },
  {
   "cell_type": "code",
   "execution_count": 11,
   "metadata": {},
   "outputs": [],
   "source": [
    "def time_and_train(model, feat_train, tgt_train):\n",
    "    start = time.perf_counter()\n",
    "    fitted_model = model.fit(feat_train, tgt_train)\n",
    "    elapsed_time = round(time.perf_counter() - start, 2)\n",
    "\n",
    "    return fitted_model, elapsed_time"
   ]
  },
  {
   "attachments": {},
   "cell_type": "markdown",
   "metadata": {},
   "source": [
    "**evaluate_predict:**  \n",
    "*Parameters:*\n",
    "- model: trained model to be used for evaluation\n",
    "- feat_val: array-like of features for model prediction\n",
    "- tgt_val: array-like of true target values\n",
    "\n",
    "*Returns:* tuple of RMSE and prediction time in seconds, rounded to the nearest hundredth."
   ]
  },
  {
   "cell_type": "code",
   "execution_count": 12,
   "metadata": {},
   "outputs": [],
   "source": [
    "def evaluate_predict(model, feat_val, tgt_val):\n",
    "    start = time.perf_counter()\n",
    "    rmse = mean_squared_error(tgt_val, model.predict(feat_val), squared=False)\n",
    "    elapsed_time = round(time.perf_counter() - start, 2)\n",
    "\n",
    "    return rmse, elapsed_time"
   ]
  },
  {
   "attachments": {},
   "cell_type": "markdown",
   "metadata": {},
   "source": [
    "**Splitting the Dataset**\n",
    "\n",
    "Since we're interested in features directly related to car values, fields that do not necessarily influence price (such as pictures on the website and creation date) will not be included in the training/validation sets. As there are a number of categorical columns, we'll encode these features (using OHE) for the linear regression and random forest regressor models. The split datasets prior to dummy creation will be retained for use with the other regression models. The split will use a 3:1 ratio."
   ]
  },
  {
   "cell_type": "code",
   "execution_count": 13,
   "metadata": {},
   "outputs": [
    {
     "name": "stdout",
     "output_type": "stream",
     "text": [
      "(184360, 303)\n",
      "(184360,)\n",
      "(61454, 303)\n",
      "(61454,)\n"
     ]
    }
   ],
   "source": [
    "X = df_cars.drop(['index', 'DateCrawled', 'Price', 'Power', 'RegistrationMonth', 'DateCreated', 'NumberOfPictures', 'PostalCode', 'LastSeen'], axis=1)\n",
    "y = df_cars['Price']\n",
    "X_ohe = pd.get_dummies(X, drop_first=True)\n",
    "\n",
    "X_train, X_valid, y_train, y_valid = train_test_split(X_ohe, y, test_size=.25, random_state=12345)\n",
    "\n",
    "print(X_train.shape)\n",
    "print(y_train.shape)\n",
    "\n",
    "print(X_valid.shape)\n",
    "print(y_valid.shape)"
   ]
  },
  {
   "attachments": {},
   "cell_type": "markdown",
   "metadata": {},
   "source": [
    "**Linear Regression**\n",
    "\n",
    "As previously mentioned, we'll train and evaluate a linear regression model using the default parameters to serve as a sanity check for our comparisons."
   ]
  },
  {
   "cell_type": "code",
   "execution_count": 14,
   "metadata": {},
   "outputs": [
    {
     "name": "stdout",
     "output_type": "stream",
     "text": [
      "Linear Regression Model RMSE:  2717.9467013491317\n",
      "Time to train:  3.83\n",
      "Prediction time:  0.08\n"
     ]
    }
   ],
   "source": [
    "lr_model, lr_time_train = time_and_train(LinearRegression(n_jobs=-1), X_train, y_train)\n",
    "lr_rmse, lr_time_predict = evaluate_predict(lr_model, X_valid, y_valid)\n",
    "\n",
    "print('Linear Regression Model RMSE: ', lr_rmse)\n",
    "print('Time to train: ', lr_time_train)\n",
    "print('Prediction time: ', lr_time_predict)"
   ]
  },
  {
   "attachments": {},
   "cell_type": "markdown",
   "metadata": {},
   "source": [
    "**Random Forest Regressor**\n",
    "\n",
    "We'll evaluate a forest regressor model with its default parameters to get a performance baseline prior to tuning the model's hyperparameters."
   ]
  },
  {
   "cell_type": "code",
   "execution_count": 15,
   "metadata": {},
   "outputs": [
    {
     "name": "stdout",
     "output_type": "stream",
     "text": [
      "Baseline Random Forest Regression Model RMSE:  1853.9002187562412\n",
      "Time to train:  100.01\n",
      "Prediction time:  0.65\n"
     ]
    }
   ],
   "source": [
    "base_rf_model, base_rf_time_train = time_and_train(RandomForestRegressor(random_state=12345, n_jobs=-1), X_train, y_train)\n",
    "base_rf_rmse, base_rf_time_predict = evaluate_predict(base_rf_model, X_valid, y_valid)\n",
    "\n",
    "print('Baseline Random Forest Regression Model RMSE: ', base_rf_rmse)\n",
    "print('Time to train: ', base_rf_time_train)\n",
    "print('Prediction time: ', base_rf_time_predict)"
   ]
  },
  {
   "attachments": {},
   "cell_type": "markdown",
   "metadata": {},
   "source": [
    "**Random Forest Regressor Grid Search**\n",
    "\n",
    "The hyperparameters we'll tune for the random forest model will be maximum tree depth, maximum features, and number of estimators."
   ]
  },
  {
   "cell_type": "code",
   "execution_count": 17,
   "metadata": {},
   "outputs": [
    {
     "name": "stdout",
     "output_type": "stream",
     "text": [
      "Final Random Forest Regression Model RMSE:  1823.579556798576\n",
      "Time to train:  66.23051571846008\n",
      "Prediction time:  1.77\n",
      "Best parameters:  {'max_depth': 50, 'max_features': 'sqrt', 'n_estimators': 100}\n"
     ]
    }
   ],
   "source": [
    "parameters = {'n_estimators': [10, 50, 100],\n",
    "                'max_features': [None, 'log2', 'sqrt'],\n",
    "                'max_depth': [25, 50, 75]}\n",
    "\n",
    "rf_results = GridSearchCV(RandomForestRegressor(random_state=12345), param_grid=parameters, scoring='neg_root_mean_squared_error', n_jobs=-1)\n",
    "rf_results.fit(X_train, y_train)\n",
    "\n",
    "final_rf_rmse, final_rf_time_predict = evaluate_predict(rf_results.best_estimator_, X_valid, y_valid)\n",
    "final_rf_time_train = rf_results.refit_time_\n",
    "\n",
    "print('Final Random Forest Regression Model RMSE: ', final_rf_rmse)\n",
    "print('Time to train: ', final_rf_time_train)\n",
    "print('Prediction time: ', final_rf_time_predict)\n",
    "print('Best parameters: ', rf_results.best_params_)"
   ]
  },
  {
   "attachments": {},
   "cell_type": "markdown",
   "metadata": {},
   "source": [
    "**LightGBM**\n",
    "\n",
    "Like the previous iterations, we'll print the baseline performance metrics below using the model's default parameters."
   ]
  },
  {
   "cell_type": "code",
   "execution_count": 18,
   "metadata": {},
   "outputs": [],
   "source": [
    "# Resplit data to remove OHE\n",
    "X_train, X_valid, y_train, y_valid = train_test_split(X, y, test_size=.25, random_state=12345)"
   ]
  },
  {
   "cell_type": "code",
   "execution_count": 19,
   "metadata": {},
   "outputs": [
    {
     "name": "stdout",
     "output_type": "stream",
     "text": [
      "Baseline LightGBM Regressor RMSE:  1837.9297659451765\n",
      "Time to train:  0.56\n",
      "Prediction time:  0.09\n"
     ]
    }
   ],
   "source": [
    "lgbm_model, base_lgbm_time_train = time_and_train(LGBMRegressor(random_state=12345, n_jobs=-1), X_train, y_train)\n",
    "base_lgbm_rmse, base_lgbm_time_predict = evaluate_predict(lgbm_model, X_valid, y_valid)\n",
    "\n",
    "print('Baseline LightGBM Regressor RMSE: ', base_lgbm_rmse)\n",
    "print('Time to train: ', base_lgbm_time_train)\n",
    "print('Prediction time: ', base_lgbm_time_predict)"
   ]
  },
  {
   "attachments": {},
   "cell_type": "markdown",
   "metadata": {},
   "source": [
    "**LightGBM Regressor Grid Search**\n",
    "\n",
    "The hyperparameters we'll tune for the model will be the number of leaves and learning rate."
   ]
  },
  {
   "cell_type": "code",
   "execution_count": 20,
   "metadata": {},
   "outputs": [
    {
     "name": "stdout",
     "output_type": "stream",
     "text": [
      "Final LightGBM Regressor Model RMSE:  1774.992020421616\n",
      "Time to train:  1.716059923171997\n",
      "Prediction time:  0.2\n",
      "Best parameters:  {'learning_rate': 0.1, 'num_leaves': 275}\n"
     ]
    }
   ],
   "source": [
    "parameters = {'learning_rate': np.array(list(range(5, 100, 5)))/100,\n",
    "            'num_leaves': list(range(50, 301, 25))}\n",
    "\n",
    "lgbm_grid = GridSearchCV(LGBMRegressor(random_state=12345), param_grid=parameters, scoring='neg_root_mean_squared_error', n_jobs=-1)\n",
    "lgbm_grid.fit(X_train, y_train)\n",
    "\n",
    "final_lgbm_rmse, final_lgbm_time_predict = evaluate_predict(lgbm_grid.best_estimator_, X_valid, y_valid)\n",
    "final_lgbm_time_train = lgbm_grid.refit_time_\n",
    "\n",
    "print('Final LightGBM Regressor Model RMSE: ', final_lgbm_rmse)\n",
    "print('Time to train: ', final_lgbm_time_train)\n",
    "print('Prediction time: ', final_lgbm_time_predict)\n",
    "print('Best parameters: ', lgbm_grid.best_params_)"
   ]
  },
  {
   "attachments": {},
   "cell_type": "markdown",
   "metadata": {},
   "source": [
    "**CatBoost**\n",
    "\n",
    "To handle categorical feature encoding for CatBoost, we'll need to specify the feature names (since they are datatype category vice object) and pass them to the cat_features parameter. The baseline metrics are printed below using the default parameters."
   ]
  },
  {
   "cell_type": "code",
   "execution_count": 21,
   "metadata": {},
   "outputs": [
    {
     "name": "stdout",
     "output_type": "stream",
     "text": [
      "Baseline CatBoost Regressor RMSE:  1861.3232492610937\n",
      "Time to train:  56.38\n",
      "Prediction time:  0.09\n"
     ]
    }
   ],
   "source": [
    "cat_features_list = ['VehicleType', 'Gearbox', 'Model', 'FuelType', 'Brand', 'NotRepaired']\n",
    "cbr_model, base_cbr_time_train = time_and_train(CatBoostRegressor(random_state=12345, cat_features=cat_features_list, verbose=False), X_train, y_train)\n",
    "base_cbr_rmse, base_cbr_time_predict = evaluate_predict(cbr_model, X_valid, y_valid)\n",
    "\n",
    "print('Baseline CatBoost Regressor RMSE: ', base_cbr_rmse)\n",
    "print('Time to train: ', base_cbr_time_train)\n",
    "print('Prediction time: ', base_cbr_time_predict)"
   ]
  },
  {
   "attachments": {},
   "cell_type": "markdown",
   "metadata": {},
   "source": [
    "**CatBoost Regressor Grid Search**\n",
    "\n",
    "The hyperparmeters we'll tune for the model will be tree depth and number of iterations."
   ]
  },
  {
   "cell_type": "code",
   "execution_count": 22,
   "metadata": {},
   "outputs": [
    {
     "name": "stdout",
     "output_type": "stream",
     "text": [
      "Final CatBoost Regressor Model RMSE:  1790.6317812136517\n",
      "Time to train:  189.81968641281128\n",
      "Prediction time:  0.4\n",
      "Best parameters:  {'depth': 10, 'iterations': 1500}\n"
     ]
    }
   ],
   "source": [
    "parameters = {'depth' : [6, 8, 10],\n",
    "              'iterations' : [500, 1000, 1500]}\n",
    "\n",
    "cbr_grid = GridSearchCV(CatBoostRegressor(random_state=12345, cat_features=cat_features_list, verbose=False), param_grid=parameters, scoring='neg_root_mean_squared_error', n_jobs=-1)\n",
    "cbr_grid.fit(X_train, y_train)\n",
    "\n",
    "final_cbr_rmse, final_cbr_time_predict = evaluate_predict(cbr_grid.best_estimator_, X_valid, y_valid)\n",
    "final_cbr_time_train = cbr_grid.refit_time_\n",
    "\n",
    "print('Final CatBoost Regressor Model RMSE: ', final_cbr_rmse)\n",
    "print('Time to train: ', final_cbr_time_train)\n",
    "print('Prediction time: ', final_cbr_time_predict)\n",
    "print('Best parameters: ', cbr_grid.best_params_)"
   ]
  },
  {
   "attachments": {},
   "cell_type": "markdown",
   "metadata": {},
   "source": [
    "## Model Analysis ##"
   ]
  },
  {
   "attachments": {},
   "cell_type": "markdown",
   "metadata": {},
   "source": [
    "Displayed below is the combined results of our baseline evaluations and final evaluations for our models."
   ]
  },
  {
   "cell_type": "code",
   "execution_count": 23,
   "metadata": {},
   "outputs": [
    {
     "data": {
      "text/html": [
       "<div>\n",
       "<style scoped>\n",
       "    .dataframe tbody tr th:only-of-type {\n",
       "        vertical-align: middle;\n",
       "    }\n",
       "\n",
       "    .dataframe tbody tr th {\n",
       "        vertical-align: top;\n",
       "    }\n",
       "\n",
       "    .dataframe thead th {\n",
       "        text-align: right;\n",
       "    }\n",
       "</style>\n",
       "<table border=\"1\" class=\"dataframe\">\n",
       "  <thead>\n",
       "    <tr style=\"text-align: right;\">\n",
       "      <th></th>\n",
       "      <th>Random Forest Regressor</th>\n",
       "      <th>LightGBM Regressor</th>\n",
       "      <th>CatBoost Regressor</th>\n",
       "    </tr>\n",
       "  </thead>\n",
       "  <tbody>\n",
       "    <tr>\n",
       "      <th>RMSE</th>\n",
       "      <td>1853.900219</td>\n",
       "      <td>1837.929766</td>\n",
       "      <td>1861.323249</td>\n",
       "    </tr>\n",
       "    <tr>\n",
       "      <th>Time to Train</th>\n",
       "      <td>100.010000</td>\n",
       "      <td>0.560000</td>\n",
       "      <td>56.380000</td>\n",
       "    </tr>\n",
       "    <tr>\n",
       "      <th>Prediction Time</th>\n",
       "      <td>0.650000</td>\n",
       "      <td>0.090000</td>\n",
       "      <td>0.090000</td>\n",
       "    </tr>\n",
       "  </tbody>\n",
       "</table>\n",
       "</div>"
      ],
      "text/plain": [
       "                 Random Forest Regressor  LightGBM Regressor  \\\n",
       "RMSE                         1853.900219         1837.929766   \n",
       "Time to Train                 100.010000            0.560000   \n",
       "Prediction Time                 0.650000            0.090000   \n",
       "\n",
       "                 CatBoost Regressor  \n",
       "RMSE                    1861.323249  \n",
       "Time to Train             56.380000  \n",
       "Prediction Time            0.090000  "
      ]
     },
     "metadata": {},
     "output_type": "display_data"
    },
    {
     "data": {
      "text/html": [
       "<div>\n",
       "<style scoped>\n",
       "    .dataframe tbody tr th:only-of-type {\n",
       "        vertical-align: middle;\n",
       "    }\n",
       "\n",
       "    .dataframe tbody tr th {\n",
       "        vertical-align: top;\n",
       "    }\n",
       "\n",
       "    .dataframe thead th {\n",
       "        text-align: right;\n",
       "    }\n",
       "</style>\n",
       "<table border=\"1\" class=\"dataframe\">\n",
       "  <thead>\n",
       "    <tr style=\"text-align: right;\">\n",
       "      <th></th>\n",
       "      <th>Random Forest Regressor</th>\n",
       "      <th>LightGBM Regressor</th>\n",
       "      <th>CatBoost Regressor</th>\n",
       "    </tr>\n",
       "  </thead>\n",
       "  <tbody>\n",
       "    <tr>\n",
       "      <th>RMSE</th>\n",
       "      <td>1823.579557</td>\n",
       "      <td>1774.99202</td>\n",
       "      <td>1790.631781</td>\n",
       "    </tr>\n",
       "    <tr>\n",
       "      <th>Time to Train</th>\n",
       "      <td>66.230516</td>\n",
       "      <td>1.71606</td>\n",
       "      <td>189.819686</td>\n",
       "    </tr>\n",
       "    <tr>\n",
       "      <th>Prediction Time</th>\n",
       "      <td>1.770000</td>\n",
       "      <td>0.20000</td>\n",
       "      <td>0.400000</td>\n",
       "    </tr>\n",
       "  </tbody>\n",
       "</table>\n",
       "</div>"
      ],
      "text/plain": [
       "                 Random Forest Regressor  LightGBM Regressor  \\\n",
       "RMSE                         1823.579557          1774.99202   \n",
       "Time to Train                  66.230516             1.71606   \n",
       "Prediction Time                 1.770000             0.20000   \n",
       "\n",
       "                 CatBoost Regressor  \n",
       "RMSE                    1790.631781  \n",
       "Time to Train            189.819686  \n",
       "Prediction Time            0.400000  "
      ]
     },
     "metadata": {},
     "output_type": "display_data"
    },
    {
     "data": {
      "text/html": [
       "<div>\n",
       "<style scoped>\n",
       "    .dataframe tbody tr th:only-of-type {\n",
       "        vertical-align: middle;\n",
       "    }\n",
       "\n",
       "    .dataframe tbody tr th {\n",
       "        vertical-align: top;\n",
       "    }\n",
       "\n",
       "    .dataframe thead th {\n",
       "        text-align: right;\n",
       "    }\n",
       "</style>\n",
       "<table border=\"1\" class=\"dataframe\">\n",
       "  <thead>\n",
       "    <tr style=\"text-align: right;\">\n",
       "      <th></th>\n",
       "      <th>% Change Random Forest</th>\n",
       "      <th>% Change LightGBM</th>\n",
       "      <th>% Change CatBoost</th>\n",
       "    </tr>\n",
       "  </thead>\n",
       "  <tbody>\n",
       "    <tr>\n",
       "      <th>RMSE</th>\n",
       "      <td>-1.635507</td>\n",
       "      <td>-3.424383</td>\n",
       "      <td>-3.797915</td>\n",
       "    </tr>\n",
       "    <tr>\n",
       "      <th>Time to Train</th>\n",
       "      <td>-33.776107</td>\n",
       "      <td>206.439272</td>\n",
       "      <td>236.679117</td>\n",
       "    </tr>\n",
       "    <tr>\n",
       "      <th>Prediction Time</th>\n",
       "      <td>172.307692</td>\n",
       "      <td>122.222222</td>\n",
       "      <td>344.444444</td>\n",
       "    </tr>\n",
       "  </tbody>\n",
       "</table>\n",
       "</div>"
      ],
      "text/plain": [
       "                 % Change Random Forest  % Change LightGBM  % Change CatBoost\n",
       "RMSE                          -1.635507          -3.424383          -3.797915\n",
       "Time to Train                -33.776107         206.439272         236.679117\n",
       "Prediction Time              172.307692         122.222222         344.444444"
      ]
     },
     "metadata": {},
     "output_type": "display_data"
    }
   ],
   "source": [
    "baseline_results = pd.DataFrame({'Random Forest Regressor': [base_rf_rmse, base_rf_time_train, base_rf_time_predict],\n",
    "                                'LightGBM Regressor': [base_lgbm_rmse, base_lgbm_time_train, base_lgbm_time_predict],\n",
    "                                'CatBoost Regressor': [base_cbr_rmse, base_cbr_time_train, base_cbr_time_predict]},\n",
    "                                index=['RMSE', 'Time to Train', 'Prediction Time'])\n",
    "\n",
    "final_results = pd.DataFrame({'Random Forest Regressor': [final_rf_rmse, final_rf_time_train, final_rf_time_predict],\n",
    "                            'LightGBM Regressor': [final_lgbm_rmse, final_lgbm_time_train, final_lgbm_time_predict],\n",
    "                            'CatBoost Regressor': [final_cbr_rmse, final_cbr_time_train, final_cbr_time_predict]},\n",
    "                            index=['RMSE', 'Time to Train', 'Prediction Time'])\n",
    "\n",
    "rf_diff = 100*(final_results['Random Forest Regressor'] - baseline_results['Random Forest Regressor'])/baseline_results['Random Forest Regressor']\n",
    "lgbm_diff = 100*(final_results['LightGBM Regressor'] - baseline_results['LightGBM Regressor'])/baseline_results['LightGBM Regressor']\n",
    "cbr_diff = 100*(final_results['CatBoost Regressor'] - baseline_results['CatBoost Regressor'])/baseline_results['CatBoost Regressor']\n",
    "\n",
    "percent_change = pd.DataFrame({'% Change Random Forest': rf_diff, '% Change LightGBM': lgbm_diff, '% Change CatBoost': cbr_diff})\n",
    "\n",
    "display(baseline_results)\n",
    "display(final_results)\n",
    "display(percent_change)"
   ]
  },
  {
   "attachments": {},
   "cell_type": "markdown",
   "metadata": {},
   "source": [
    "After tuning hyperparameters for each model, the LightGBM regressor had the lowest overall RMSE. Additionally, this model had the best performance times; 1.72 seconds for time to train and a prediction time of 0.2 seconds for its final model evaluation. Both gradient boosting models and an increased time to train from their baselines, whereas the random forest regressor actually improved its time to train."
   ]
  },
  {
   "attachments": {},
   "cell_type": "markdown",
   "metadata": {},
   "source": [
    "## Conclusion ##\n",
    "\n",
    "In this project we explored the benefits of using gradient boosting models for target prediction, especially when there is an emphasis on performance metrics such as runtime. While the evaluation metric (RMSE) of each regression model were similar and within reasonable tolerances in terms of this project's scope (i.e. predicting car price in euros), we cannot overlook the advantages introduced by gradient boosting in terms of overall efficiency. Based on the results above, the app should incorporate the use of a LightGBM regressor model as it meets the criteria for model prediction quality and runtime performance.\n",
    "\n",
    "Aside from the advantages gradient boosting models had in both time to train and prediction time, one aspect not directly explored in this project was optimization time. In each case, we incorporated a GridSearchCV for hyperparameter tuning, which can dramatically degrade optimization time as we add more search parameters. The search parameters selected in this project were not thoroughly exhaustive as a compromise between quality and time, but it is important to note that LightGBM and CatBoost support the integration of GPUs. This can drastically improve runtime as well as model quality as this offers opportunities for more expansive parameter tuning from a powerful dedicated source.\n",
    "\n",
    "In terms of overall model prediction quality, improvements could be made with a more detailed exploration of feature selection and/or importance. As most of the features used for training were categorical, we can intuit the difficulty for a model to interpret features such as car trim for a particular make and model, or the impact of car repair to its value."
   ]
  }
 ],
 "metadata": {
  "kernelspec": {
   "display_name": "Python 3",
   "language": "python",
   "name": "python3"
  },
  "language_info": {
   "codemirror_mode": {
    "name": "ipython",
    "version": 3
   },
   "file_extension": ".py",
   "mimetype": "text/x-python",
   "name": "python",
   "nbconvert_exporter": "python",
   "pygments_lexer": "ipython3",
   "version": "3.11.1"
  },
  "orig_nbformat": 4
 },
 "nbformat": 4,
 "nbformat_minor": 2
}
